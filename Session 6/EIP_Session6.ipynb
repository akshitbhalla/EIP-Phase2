{
  "nbformat": 4,
  "nbformat_minor": 0,
  "metadata": {
    "colab": {
      "name": "EIP_Session6.ipynb",
      "version": "0.3.2",
      "provenance": [],
      "collapsed_sections": []
    },
    "kernelspec": {
      "name": "python3",
      "display_name": "Python 3"
    },
    "accelerator": "GPU"
  },
  "cells": [
    {
      "cell_type": "markdown",
      "metadata": {
        "id": "fYm7hgrAhf0r",
        "colab_type": "text"
      },
      "source": [
        "## Obtain Text File"
      ]
    },
    {
      "cell_type": "code",
      "metadata": {
        "id": "bz3VZSEo6Wm4",
        "colab_type": "code",
        "outputId": "7cbdd6b0-3baf-4eee-b760-f82e2dd61673",
        "colab": {
          "base_uri": "https://localhost:8080/",
          "height": 204
        }
      },
      "source": [
        "!wget -O \"pg11.txt\" \"http://www.gutenberg.org/files/11/11-0.txt\""
      ],
      "execution_count": 1,
      "outputs": [
        {
          "output_type": "stream",
          "text": [
            "--2019-07-26 18:44:05--  http://www.gutenberg.org/files/11/11-0.txt\n",
            "Resolving www.gutenberg.org (www.gutenberg.org)... 152.19.134.47, 2610:28:3090:3000:0:bad:cafe:47\n",
            "Connecting to www.gutenberg.org (www.gutenberg.org)|152.19.134.47|:80... connected.\n",
            "HTTP request sent, awaiting response... 200 OK\n",
            "Length: 173595 (170K) [text/plain]\n",
            "Saving to: ‘pg11.txt’\n",
            "\n",
            "pg11.txt            100%[===================>] 169.53K  --.-KB/s    in 0.1s    \n",
            "\n",
            "2019-07-26 18:44:11 (1.15 MB/s) - ‘pg11.txt’ saved [173595/173595]\n",
            "\n"
          ],
          "name": "stdout"
        }
      ]
    },
    {
      "cell_type": "markdown",
      "metadata": {
        "id": "XzcKVe3hhkaI",
        "colab_type": "text"
      },
      "source": [
        "## Remove License Data"
      ]
    },
    {
      "cell_type": "code",
      "metadata": {
        "id": "krmeniqPHefP",
        "colab_type": "code",
        "colab": {}
      },
      "source": [
        "!sed -i 1,38d pg11.txt\n",
        "!head -n -367 pg11.txt > wonderland.txt"
      ],
      "execution_count": 0,
      "outputs": []
    },
    {
      "cell_type": "markdown",
      "metadata": {
        "id": "ZGQKdx-Ph53a",
        "colab_type": "text"
      },
      "source": [
        "## Import Libraries"
      ]
    },
    {
      "cell_type": "code",
      "metadata": {
        "id": "8YjsUpiP4Yh7",
        "colab_type": "code",
        "colab": {
          "base_uri": "https://localhost:8080/",
          "height": 34
        },
        "outputId": "894795a2-e0e1-4ff4-8b5b-fc3fde609edb"
      },
      "source": [
        "# Load Larger LSTM network and generate text\n",
        "import sys\n",
        "import numpy\n",
        "from keras.models import Sequential\n",
        "from keras.layers import Dense\n",
        "from keras.layers import Dropout\n",
        "from keras.layers import LSTM\n",
        "from keras.callbacks import ModelCheckpoint\n",
        "from keras.utils import np_utils"
      ],
      "execution_count": 3,
      "outputs": [
        {
          "output_type": "stream",
          "text": [
            "Using TensorFlow backend.\n"
          ],
          "name": "stderr"
        }
      ]
    },
    {
      "cell_type": "markdown",
      "metadata": {
        "id": "9ZWZefNbh9Oz",
        "colab_type": "text"
      },
      "source": [
        "## Load Text File"
      ]
    },
    {
      "cell_type": "code",
      "metadata": {
        "id": "T2XPYjWVZCdw",
        "colab_type": "code",
        "colab": {}
      },
      "source": [
        "# load ascii text and covert to lowercase\n",
        "filename = \"wonderland.txt\"\n",
        "raw_text_p = open(filename).read()\n",
        "raw_text_p = raw_text_p.lower()"
      ],
      "execution_count": 0,
      "outputs": []
    },
    {
      "cell_type": "markdown",
      "metadata": {
        "id": "ox1xIZ05adX3",
        "colab_type": "text"
      },
      "source": [
        "## Removing Punctuation"
      ]
    },
    {
      "cell_type": "code",
      "metadata": {
        "id": "O_mEshO3ZguO",
        "colab_type": "code",
        "colab": {}
      },
      "source": [
        "import re\n",
        "raw_text = re.sub(r'[^\\w\\s]','',raw_text_p)"
      ],
      "execution_count": 0,
      "outputs": []
    },
    {
      "cell_type": "code",
      "metadata": {
        "id": "dJI4BcVWlujx",
        "colab_type": "code",
        "colab": {}
      },
      "source": [
        "# create mapping of unique chars to integers, and a reverse mapping\n",
        "chars = sorted(list(set(raw_text)))\n",
        "char_to_int = dict((c, i) for i, c in enumerate(chars))\n",
        "int_to_char = dict((i, c) for i, c in enumerate(chars))"
      ],
      "execution_count": 0,
      "outputs": []
    },
    {
      "cell_type": "markdown",
      "metadata": {
        "id": "9U1RGvSoiDLs",
        "colab_type": "text"
      },
      "source": [
        "## Padding Sentence-Wise\n",
        "#### Further Work necessary"
      ]
    },
    {
      "cell_type": "code",
      "metadata": {
        "id": "xhVgp8s4ebuz",
        "colab_type": "code",
        "colab": {
          "base_uri": "https://localhost:8080/",
          "height": 340
        },
        "outputId": "9681f2d1-b1bc-4e4b-abe7-ae9d14266050"
      },
      "source": [
        "from keras.preprocessing.sequence import pad_sequences\n",
        "sentences_w = raw_text.split(\"\\n\")\n",
        "sentences = []\n",
        "for i in sentences_w:\n",
        "  if len(i)> 0:\n",
        "    sentences.append(i)\n",
        "print(len(sentences))\n",
        "sorted(list(set(' '.join(sentences))))\n",
        "#find the length of each sentence\n",
        "sentences_int = []\n",
        "for sentence in sentences:\n",
        "  char_int = [char_to_int[char] for char in sentence]\n",
        "  sentences_int.append(char_int)\n",
        "# define sequences\n",
        "sequences = sentences_int\n",
        "# pad sequence\n",
        "padded = pad_sequences(sequences)\n",
        "for i in padded[0:10]:\n",
        "  print(len(i) , i[-1])\n",
        "# prepare the dataset of input to output pairs encoded as integers\n",
        "dataX = []\n",
        "dataY = []\n",
        "for sentence in padded:\n",
        "  train_input = sentence[0: -1]\n",
        "  train_output = sentence[-1] \n",
        "  dataX.append(train_input)\n",
        "  dataY.append(train_output)\n",
        "n_patterns = len(dataX)\n",
        "print (\"Total Patterns: \", n_patterns)\n",
        "print(len(dataX),len(dataY) )\n",
        "print (len(dataX[0]), dataX[0], dataY[0] )\n",
        "print(len(dataX[1]), dataX[1], dataY[1])"
      ],
      "execution_count": 7,
      "outputs": [
        {
          "output_type": "stream",
          "text": [
            "2477\n",
            "73 7\n",
            "73 7\n",
            "73 7\n",
            "73 16\n",
            "73 20\n",
            "73 21\n",
            "73 7\n",
            "73 7\n",
            "73 6\n",
            "73 16\n",
            "Total Patterns:  2477\n",
            "2477 2477\n",
            "72 [ 0  0  0  0  0  0  0  0  0  0  0  0  0  0  0  0  0  0  0  0  0  0  0  0\n",
            "  0  0  0  0  0  0  0  0  0  0  0  0  0  0  0  0  0  0  0  0  5 10  3 18\n",
            " 22  7 20  1 11  1  6 17 25 16  1 22 10  7  1 20  3  4  4 11 22 10 17 14] 7\n",
            "72 [ 0  0  0  0  3 14 11  5  7  1 25  3 21  1  4  7  9 11 16 16 11 16  9  1\n",
            " 22 17  1  9  7 22  1 24  7 20 27  1 22 11 20  7  6  1 17  8  1 21 11 22\n",
            " 22 11 16  9  1  4 27  1 10  7 20  1 21 11 21 22  7 20  1 17 16  1 22 10] 7\n"
          ],
          "name": "stdout"
        }
      ]
    },
    {
      "cell_type": "code",
      "metadata": {
        "id": "z2cG9qfJbnQj",
        "colab_type": "code",
        "colab": {
          "base_uri": "https://localhost:8080/",
          "height": 51
        },
        "outputId": "b303f9f3-52b5-4060-c672-fc7a866b8fb0"
      },
      "source": [
        "# summarize the loaded data\n",
        "n_chars = len(raw_text)\n",
        "n_vocab = len(chars)\n",
        "print (\"Total Characters: \", n_chars)\n",
        "print (\"Total Vocab: \", n_vocab)"
      ],
      "execution_count": 8,
      "outputs": [
        {
          "output_type": "stream",
          "text": [
            "Total Characters:  136014\n",
            "Total Vocab:  29\n"
          ],
          "name": "stdout"
        }
      ]
    },
    {
      "cell_type": "code",
      "metadata": {
        "id": "wkvjjhWbbrNs",
        "colab_type": "code",
        "colab": {
          "base_uri": "https://localhost:8080/",
          "height": 34
        },
        "outputId": "216f532d-2ea1-4c02-feca-0739b18c60f8"
      },
      "source": [
        "# prepare the dataset of input to output pairs encoded as integers\n",
        "seq_length = 100\n",
        "dataX = []\n",
        "dataY = []\n",
        "for i in range(0, n_chars - seq_length, 1):\n",
        "\tseq_in = raw_text[i:i + seq_length]\n",
        "\tseq_out = raw_text[i + seq_length]\n",
        "\tdataX.append([char_to_int[char] for char in seq_in])\n",
        "\tdataY.append(char_to_int[seq_out])\n",
        "n_patterns = len(dataX)\n",
        "print (\"Total Patterns: \", n_patterns)"
      ],
      "execution_count": 9,
      "outputs": [
        {
          "output_type": "stream",
          "text": [
            "Total Patterns:  135914\n"
          ],
          "name": "stdout"
        }
      ]
    },
    {
      "cell_type": "code",
      "metadata": {
        "id": "lsVI7DatbufC",
        "colab_type": "code",
        "colab": {}
      },
      "source": [
        "# reshape X to be [samples, time steps, features]\n",
        "X = numpy.reshape(dataX, (n_patterns, seq_length, 1))\n",
        "# normalize\n",
        "X = X / float(n_vocab)\n",
        "# one hot encode the output variable\n",
        "y = np_utils.to_categorical(dataY)"
      ],
      "execution_count": 0,
      "outputs": []
    },
    {
      "cell_type": "markdown",
      "metadata": {
        "id": "TPu85ztc5gjy",
        "colab_type": "text"
      },
      "source": [
        "## LSTM Model"
      ]
    },
    {
      "cell_type": "code",
      "metadata": {
        "id": "FLSgWV_8bxGZ",
        "colab_type": "code",
        "colab": {
          "base_uri": "https://localhost:8080/",
          "height": 88
        },
        "outputId": "8dc3439c-42dc-4a10-da4f-9c8522b80048"
      },
      "source": [
        "# define the LSTM model\n",
        "model = Sequential()\n",
        "model.add(Dropout(0.1))\n",
        "model.add(LSTM(256, input_shape=(X.shape[1], X.shape[2]), return_sequences=True))\n",
        "model.add(Dropout(0.1))\n",
        "model.add(LSTM(256))\n",
        "model.add(Dense(y.shape[1], activation='softmax'))"
      ],
      "execution_count": 11,
      "outputs": [
        {
          "output_type": "stream",
          "text": [
            "WARNING: Logging before flag parsing goes to stderr.\n",
            "W0726 18:44:20.398203 140056985712512 deprecation_wrapper.py:119] From /usr/local/lib/python3.6/dist-packages/keras/backend/tensorflow_backend.py:74: The name tf.get_default_graph is deprecated. Please use tf.compat.v1.get_default_graph instead.\n",
            "\n"
          ],
          "name": "stderr"
        }
      ]
    },
    {
      "cell_type": "code",
      "metadata": {
        "id": "ZXuxcnCoe2v7",
        "colab_type": "code",
        "colab": {}
      },
      "source": [
        "filepath=\"EIP_Session2_weights-{epoch:02d}-{loss:.4f}.hdf5\"\n",
        "checkpoint = ModelCheckpoint(filepath, monitor='loss', verbose=1, save_best_only=True, mode='min')\n",
        "callbacks_list = [checkpoint]"
      ],
      "execution_count": 0,
      "outputs": []
    },
    {
      "cell_type": "markdown",
      "metadata": {
        "id": "EPiuz0nT5jyi",
        "colab_type": "text"
      },
      "source": [
        "## Training for 100 Epochs"
      ]
    },
    {
      "cell_type": "code",
      "metadata": {
        "id": "_LPh_YuMbzdZ",
        "colab_type": "code",
        "colab": {
          "base_uri": "https://localhost:8080/",
          "height": 1000
        },
        "outputId": "f5d62ab8-6491-4c46-bf9e-ee6a7188fc12"
      },
      "source": [
        "# train the model\n",
        "model.compile(loss='categorical_crossentropy', optimizer='adam')\n",
        "model.fit(X, y, epochs=100, batch_size=512, callbacks = callbacks_list)"
      ],
      "execution_count": 13,
      "outputs": [
        {
          "output_type": "stream",
          "text": [
            "W0726 18:44:20.452980 140056985712512 deprecation_wrapper.py:119] From /usr/local/lib/python3.6/dist-packages/keras/optimizers.py:790: The name tf.train.Optimizer is deprecated. Please use tf.compat.v1.train.Optimizer instead.\n",
            "\n",
            "W0726 18:44:20.479672 140056985712512 deprecation_wrapper.py:119] From /usr/local/lib/python3.6/dist-packages/keras/backend/tensorflow_backend.py:517: The name tf.placeholder is deprecated. Please use tf.compat.v1.placeholder instead.\n",
            "\n",
            "W0726 18:44:20.481420 140056985712512 deprecation_wrapper.py:119] From /usr/local/lib/python3.6/dist-packages/keras/backend/tensorflow_backend.py:133: The name tf.placeholder_with_default is deprecated. Please use tf.compat.v1.placeholder_with_default instead.\n",
            "\n",
            "W0726 18:44:20.491974 140056985712512 deprecation.py:506] From /usr/local/lib/python3.6/dist-packages/keras/backend/tensorflow_backend.py:3445: calling dropout (from tensorflow.python.ops.nn_ops) with keep_prob is deprecated and will be removed in a future version.\n",
            "Instructions for updating:\n",
            "Please use `rate` instead of `keep_prob`. Rate should be set to `rate = 1 - keep_prob`.\n",
            "W0726 18:44:20.512798 140056985712512 deprecation_wrapper.py:119] From /usr/local/lib/python3.6/dist-packages/keras/backend/tensorflow_backend.py:4138: The name tf.random_uniform is deprecated. Please use tf.random.uniform instead.\n",
            "\n",
            "W0726 18:44:21.136682 140056985712512 deprecation_wrapper.py:119] From /usr/local/lib/python3.6/dist-packages/keras/backend/tensorflow_backend.py:3295: The name tf.log is deprecated. Please use tf.math.log instead.\n",
            "\n",
            "W0726 18:44:21.289432 140056985712512 deprecation.py:323] From /usr/local/lib/python3.6/dist-packages/tensorflow/python/ops/math_grad.py:1250: add_dispatch_support.<locals>.wrapper (from tensorflow.python.ops.array_ops) is deprecated and will be removed in a future version.\n",
            "Instructions for updating:\n",
            "Use tf.where in 2.0, which has the same broadcast rule as np.where\n"
          ],
          "name": "stderr"
        },
        {
          "output_type": "stream",
          "text": [
            "Epoch 1/100\n",
            "135914/135914 [==============================] - 80s 587us/step - loss: 2.8844\n",
            "\n",
            "Epoch 00001: loss improved from inf to 2.88441, saving model to EIP_Session2_weights-01-2.8844.hdf5\n",
            "Epoch 2/100\n",
            "135914/135914 [==============================] - 75s 551us/step - loss: 2.8068\n",
            "\n",
            "Epoch 00002: loss improved from 2.88441 to 2.80681, saving model to EIP_Session2_weights-02-2.8068.hdf5\n",
            "Epoch 3/100\n",
            "135914/135914 [==============================] - 75s 549us/step - loss: 2.6987\n",
            "\n",
            "Epoch 00003: loss improved from 2.80681 to 2.69868, saving model to EIP_Session2_weights-03-2.6987.hdf5\n",
            "Epoch 4/100\n",
            "135914/135914 [==============================] - 75s 552us/step - loss: 2.5796\n",
            "\n",
            "Epoch 00004: loss improved from 2.69868 to 2.57957, saving model to EIP_Session2_weights-04-2.5796.hdf5\n",
            "Epoch 5/100\n",
            "135914/135914 [==============================] - 75s 555us/step - loss: 2.4606\n",
            "\n",
            "Epoch 00005: loss improved from 2.57957 to 2.46058, saving model to EIP_Session2_weights-05-2.4606.hdf5\n",
            "Epoch 6/100\n",
            "135914/135914 [==============================] - 76s 556us/step - loss: 2.3685\n",
            "\n",
            "Epoch 00006: loss improved from 2.46058 to 2.36855, saving model to EIP_Session2_weights-06-2.3685.hdf5\n",
            "Epoch 7/100\n",
            "135914/135914 [==============================] - 77s 564us/step - loss: 2.2918\n",
            "\n",
            "Epoch 00007: loss improved from 2.36855 to 2.29180, saving model to EIP_Session2_weights-07-2.2918.hdf5\n",
            "Epoch 8/100\n",
            "135914/135914 [==============================] - 76s 559us/step - loss: 2.2217\n",
            "\n",
            "Epoch 00008: loss improved from 2.29180 to 2.22167, saving model to EIP_Session2_weights-08-2.2217.hdf5\n",
            "Epoch 9/100\n",
            "135914/135914 [==============================] - 75s 555us/step - loss: 2.1598\n",
            "\n",
            "Epoch 00009: loss improved from 2.22167 to 2.15980, saving model to EIP_Session2_weights-09-2.1598.hdf5\n",
            "Epoch 10/100\n",
            "135914/135914 [==============================] - 75s 549us/step - loss: 2.1061\n",
            "\n",
            "Epoch 00010: loss improved from 2.15980 to 2.10609, saving model to EIP_Session2_weights-10-2.1061.hdf5\n",
            "Epoch 11/100\n",
            "135914/135914 [==============================] - 75s 550us/step - loss: 2.0638\n",
            "\n",
            "Epoch 00011: loss improved from 2.10609 to 2.06375, saving model to EIP_Session2_weights-11-2.0638.hdf5\n",
            "Epoch 12/100\n",
            "135914/135914 [==============================] - 74s 547us/step - loss: 2.0271\n",
            "\n",
            "Epoch 00012: loss improved from 2.06375 to 2.02713, saving model to EIP_Session2_weights-12-2.0271.hdf5\n",
            "Epoch 13/100\n",
            "135914/135914 [==============================] - 75s 552us/step - loss: 1.9901\n",
            "\n",
            "Epoch 00013: loss improved from 2.02713 to 1.99011, saving model to EIP_Session2_weights-13-1.9901.hdf5\n",
            "Epoch 14/100\n",
            "135914/135914 [==============================] - 75s 552us/step - loss: 1.9638\n",
            "\n",
            "Epoch 00014: loss improved from 1.99011 to 1.96382, saving model to EIP_Session2_weights-14-1.9638.hdf5\n",
            "Epoch 15/100\n",
            "135914/135914 [==============================] - 75s 555us/step - loss: 1.9354\n",
            "\n",
            "Epoch 00015: loss improved from 1.96382 to 1.93537, saving model to EIP_Session2_weights-15-1.9354.hdf5\n",
            "Epoch 16/100\n",
            "135914/135914 [==============================] - 75s 554us/step - loss: 1.9049\n",
            "\n",
            "Epoch 00016: loss improved from 1.93537 to 1.90488, saving model to EIP_Session2_weights-16-1.9049.hdf5\n",
            "Epoch 17/100\n",
            "135914/135914 [==============================] - 76s 558us/step - loss: 1.8822\n",
            "\n",
            "Epoch 00017: loss improved from 1.90488 to 1.88222, saving model to EIP_Session2_weights-17-1.8822.hdf5\n",
            "Epoch 18/100\n",
            "135914/135914 [==============================] - 75s 555us/step - loss: 1.8656\n",
            "\n",
            "Epoch 00018: loss improved from 1.88222 to 1.86564, saving model to EIP_Session2_weights-18-1.8656.hdf5\n",
            "Epoch 19/100\n",
            "135914/135914 [==============================] - 75s 555us/step - loss: 1.8446\n",
            "\n",
            "Epoch 00019: loss improved from 1.86564 to 1.84461, saving model to EIP_Session2_weights-19-1.8446.hdf5\n",
            "Epoch 20/100\n",
            "135914/135914 [==============================] - 76s 556us/step - loss: 1.8229\n",
            "\n",
            "Epoch 00020: loss improved from 1.84461 to 1.82287, saving model to EIP_Session2_weights-20-1.8229.hdf5\n",
            "Epoch 21/100\n",
            "135914/135914 [==============================] - 76s 558us/step - loss: 1.8077\n",
            "\n",
            "Epoch 00021: loss improved from 1.82287 to 1.80772, saving model to EIP_Session2_weights-21-1.8077.hdf5\n",
            "Epoch 22/100\n",
            "135914/135914 [==============================] - 76s 556us/step - loss: 1.7886\n",
            "\n",
            "Epoch 00022: loss improved from 1.80772 to 1.78855, saving model to EIP_Session2_weights-22-1.7886.hdf5\n",
            "Epoch 23/100\n",
            "135914/135914 [==============================] - 76s 557us/step - loss: 1.7728\n",
            "\n",
            "Epoch 00023: loss improved from 1.78855 to 1.77278, saving model to EIP_Session2_weights-23-1.7728.hdf5\n",
            "Epoch 24/100\n",
            "135914/135914 [==============================] - 75s 555us/step - loss: 1.7584\n",
            "\n",
            "Epoch 00024: loss improved from 1.77278 to 1.75845, saving model to EIP_Session2_weights-24-1.7584.hdf5\n",
            "Epoch 25/100\n",
            "135914/135914 [==============================] - 76s 556us/step - loss: 1.7437\n",
            "\n",
            "Epoch 00025: loss improved from 1.75845 to 1.74374, saving model to EIP_Session2_weights-25-1.7437.hdf5\n",
            "Epoch 26/100\n",
            "135914/135914 [==============================] - 75s 555us/step - loss: 1.7321\n",
            "\n",
            "Epoch 00026: loss improved from 1.74374 to 1.73212, saving model to EIP_Session2_weights-26-1.7321.hdf5\n",
            "Epoch 27/100\n",
            "135914/135914 [==============================] - 75s 555us/step - loss: 1.7179\n",
            "\n",
            "Epoch 00027: loss improved from 1.73212 to 1.71786, saving model to EIP_Session2_weights-27-1.7179.hdf5\n",
            "Epoch 28/100\n",
            "135914/135914 [==============================] - 75s 555us/step - loss: 1.7043\n",
            "\n",
            "Epoch 00028: loss improved from 1.71786 to 1.70434, saving model to EIP_Session2_weights-28-1.7043.hdf5\n",
            "Epoch 29/100\n",
            "135914/135914 [==============================] - 75s 553us/step - loss: 1.6969\n",
            "\n",
            "Epoch 00029: loss improved from 1.70434 to 1.69692, saving model to EIP_Session2_weights-29-1.6969.hdf5\n",
            "Epoch 30/100\n",
            "135914/135914 [==============================] - 76s 557us/step - loss: 1.6848\n",
            "\n",
            "Epoch 00030: loss improved from 1.69692 to 1.68482, saving model to EIP_Session2_weights-30-1.6848.hdf5\n",
            "Epoch 31/100\n",
            "135914/135914 [==============================] - 76s 557us/step - loss: 1.6744\n",
            "\n",
            "Epoch 00031: loss improved from 1.68482 to 1.67441, saving model to EIP_Session2_weights-31-1.6744.hdf5\n",
            "Epoch 32/100\n",
            "135914/135914 [==============================] - 76s 557us/step - loss: 1.6639\n",
            "\n",
            "Epoch 00032: loss improved from 1.67441 to 1.66392, saving model to EIP_Session2_weights-32-1.6639.hdf5\n",
            "Epoch 33/100\n",
            "135914/135914 [==============================] - 76s 557us/step - loss: 1.6494\n",
            "\n",
            "Epoch 00033: loss improved from 1.66392 to 1.64937, saving model to EIP_Session2_weights-33-1.6494.hdf5\n",
            "Epoch 34/100\n",
            "135914/135914 [==============================] - 76s 560us/step - loss: 1.6425\n",
            "\n",
            "Epoch 00034: loss improved from 1.64937 to 1.64254, saving model to EIP_Session2_weights-34-1.6425.hdf5\n",
            "Epoch 35/100\n",
            "135914/135914 [==============================] - 76s 562us/step - loss: 1.6323\n",
            "\n",
            "Epoch 00035: loss improved from 1.64254 to 1.63232, saving model to EIP_Session2_weights-35-1.6323.hdf5\n",
            "Epoch 36/100\n",
            "135914/135914 [==============================] - 76s 560us/step - loss: 1.6234\n",
            "\n",
            "Epoch 00036: loss improved from 1.63232 to 1.62336, saving model to EIP_Session2_weights-36-1.6234.hdf5\n",
            "Epoch 37/100\n",
            "135914/135914 [==============================] - 74s 546us/step - loss: 1.6311\n",
            "\n",
            "Epoch 00037: loss did not improve from 1.62336\n",
            "Epoch 38/100\n",
            "135914/135914 [==============================] - 74s 541us/step - loss: 1.6102\n",
            "\n",
            "Epoch 00038: loss improved from 1.62336 to 1.61020, saving model to EIP_Session2_weights-38-1.6102.hdf5\n",
            "Epoch 39/100\n",
            "135914/135914 [==============================] - 73s 534us/step - loss: 1.6025\n",
            "\n",
            "Epoch 00039: loss improved from 1.61020 to 1.60254, saving model to EIP_Session2_weights-39-1.6025.hdf5\n",
            "Epoch 40/100\n",
            "135914/135914 [==============================] - 72s 530us/step - loss: 1.5931\n",
            "\n",
            "Epoch 00040: loss improved from 1.60254 to 1.59309, saving model to EIP_Session2_weights-40-1.5931.hdf5\n",
            "Epoch 41/100\n",
            "135914/135914 [==============================] - 73s 534us/step - loss: 1.5842\n",
            "\n",
            "Epoch 00041: loss improved from 1.59309 to 1.58421, saving model to EIP_Session2_weights-41-1.5842.hdf5\n",
            "Epoch 42/100\n",
            "135914/135914 [==============================] - 72s 529us/step - loss: 1.5745\n",
            "\n",
            "Epoch 00042: loss improved from 1.58421 to 1.57452, saving model to EIP_Session2_weights-42-1.5745.hdf5\n",
            "Epoch 43/100\n",
            "135914/135914 [==============================] - 72s 531us/step - loss: 1.5697\n",
            "\n",
            "Epoch 00043: loss improved from 1.57452 to 1.56972, saving model to EIP_Session2_weights-43-1.5697.hdf5\n",
            "Epoch 44/100\n",
            "135914/135914 [==============================] - 72s 533us/step - loss: 1.5637\n",
            "\n",
            "Epoch 00044: loss improved from 1.56972 to 1.56367, saving model to EIP_Session2_weights-44-1.5637.hdf5\n",
            "Epoch 45/100\n",
            "135914/135914 [==============================] - 72s 527us/step - loss: 1.5612\n",
            "\n",
            "Epoch 00045: loss improved from 1.56367 to 1.56119, saving model to EIP_Session2_weights-45-1.5612.hdf5\n",
            "Epoch 46/100\n",
            "135914/135914 [==============================] - 72s 529us/step - loss: 1.5498\n",
            "\n",
            "Epoch 00046: loss improved from 1.56119 to 1.54980, saving model to EIP_Session2_weights-46-1.5498.hdf5\n",
            "Epoch 47/100\n",
            "135914/135914 [==============================] - 72s 527us/step - loss: 1.5469\n",
            "\n",
            "Epoch 00047: loss improved from 1.54980 to 1.54686, saving model to EIP_Session2_weights-47-1.5469.hdf5\n",
            "Epoch 48/100\n",
            "135914/135914 [==============================] - 71s 525us/step - loss: 1.5373\n",
            "\n",
            "Epoch 00048: loss improved from 1.54686 to 1.53733, saving model to EIP_Session2_weights-48-1.5373.hdf5\n",
            "Epoch 49/100\n",
            "135914/135914 [==============================] - 74s 545us/step - loss: 1.5313\n",
            "\n",
            "Epoch 00049: loss improved from 1.53733 to 1.53134, saving model to EIP_Session2_weights-49-1.5313.hdf5\n",
            "Epoch 50/100\n",
            "135914/135914 [==============================] - 72s 530us/step - loss: 1.5261\n",
            "\n",
            "Epoch 00050: loss improved from 1.53134 to 1.52606, saving model to EIP_Session2_weights-50-1.5261.hdf5\n",
            "Epoch 51/100\n",
            "135914/135914 [==============================] - 72s 529us/step - loss: 1.5169\n",
            "\n",
            "Epoch 00051: loss improved from 1.52606 to 1.51690, saving model to EIP_Session2_weights-51-1.5169.hdf5\n",
            "Epoch 52/100\n",
            "135914/135914 [==============================] - 72s 527us/step - loss: 1.5138\n",
            "\n",
            "Epoch 00052: loss improved from 1.51690 to 1.51379, saving model to EIP_Session2_weights-52-1.5138.hdf5\n",
            "Epoch 53/100\n",
            "135914/135914 [==============================] - 72s 527us/step - loss: 1.5087\n",
            "\n",
            "Epoch 00053: loss improved from 1.51379 to 1.50866, saving model to EIP_Session2_weights-53-1.5087.hdf5\n",
            "Epoch 54/100\n",
            "135914/135914 [==============================] - 72s 533us/step - loss: 1.5015\n",
            "\n",
            "Epoch 00054: loss improved from 1.50866 to 1.50149, saving model to EIP_Session2_weights-54-1.5015.hdf5\n",
            "Epoch 55/100\n",
            "135914/135914 [==============================] - 72s 533us/step - loss: 1.4950\n",
            "\n",
            "Epoch 00055: loss improved from 1.50149 to 1.49504, saving model to EIP_Session2_weights-55-1.4950.hdf5\n",
            "Epoch 56/100\n",
            "135914/135914 [==============================] - 72s 530us/step - loss: 1.4928\n",
            "\n",
            "Epoch 00056: loss improved from 1.49504 to 1.49282, saving model to EIP_Session2_weights-56-1.4928.hdf5\n",
            "Epoch 57/100\n",
            "135914/135914 [==============================] - 72s 530us/step - loss: 1.4845\n",
            "\n",
            "Epoch 00057: loss improved from 1.49282 to 1.48449, saving model to EIP_Session2_weights-57-1.4845.hdf5\n",
            "Epoch 58/100\n",
            "135914/135914 [==============================] - 71s 526us/step - loss: 1.4827\n",
            "\n",
            "Epoch 00058: loss improved from 1.48449 to 1.48265, saving model to EIP_Session2_weights-58-1.4827.hdf5\n",
            "Epoch 59/100\n",
            "135914/135914 [==============================] - 72s 532us/step - loss: 1.4762\n",
            "\n",
            "Epoch 00059: loss improved from 1.48265 to 1.47623, saving model to EIP_Session2_weights-59-1.4762.hdf5\n",
            "Epoch 60/100\n",
            "135914/135914 [==============================] - 72s 528us/step - loss: 1.4701\n",
            "\n",
            "Epoch 00060: loss improved from 1.47623 to 1.47015, saving model to EIP_Session2_weights-60-1.4701.hdf5\n",
            "Epoch 61/100\n",
            "135914/135914 [==============================] - 72s 526us/step - loss: 1.4649\n",
            "\n",
            "Epoch 00061: loss improved from 1.47015 to 1.46494, saving model to EIP_Session2_weights-61-1.4649.hdf5\n",
            "Epoch 62/100\n",
            "135914/135914 [==============================] - 71s 525us/step - loss: 1.4628\n",
            "\n",
            "Epoch 00062: loss improved from 1.46494 to 1.46282, saving model to EIP_Session2_weights-62-1.4628.hdf5\n",
            "Epoch 63/100\n",
            "135914/135914 [==============================] - 71s 524us/step - loss: 1.4564\n",
            "\n",
            "Epoch 00063: loss improved from 1.46282 to 1.45636, saving model to EIP_Session2_weights-63-1.4564.hdf5\n",
            "Epoch 64/100\n",
            "135914/135914 [==============================] - 72s 533us/step - loss: 1.4562\n",
            "\n",
            "Epoch 00064: loss improved from 1.45636 to 1.45621, saving model to EIP_Session2_weights-64-1.4562.hdf5\n",
            "Epoch 65/100\n",
            "135914/135914 [==============================] - 72s 526us/step - loss: 1.4499\n",
            "\n",
            "Epoch 00065: loss improved from 1.45621 to 1.44994, saving model to EIP_Session2_weights-65-1.4499.hdf5\n",
            "Epoch 66/100\n",
            "135914/135914 [==============================] - 72s 529us/step - loss: 1.4453\n",
            "\n",
            "Epoch 00066: loss improved from 1.44994 to 1.44531, saving model to EIP_Session2_weights-66-1.4453.hdf5\n",
            "Epoch 67/100\n",
            "135914/135914 [==============================] - 72s 526us/step - loss: 1.4402\n",
            "\n",
            "Epoch 00067: loss improved from 1.44531 to 1.44016, saving model to EIP_Session2_weights-67-1.4402.hdf5\n",
            "Epoch 68/100\n",
            "135914/135914 [==============================] - 73s 537us/step - loss: 1.4356\n",
            "\n",
            "Epoch 00068: loss improved from 1.44016 to 1.43557, saving model to EIP_Session2_weights-68-1.4356.hdf5\n",
            "Epoch 69/100\n",
            "135914/135914 [==============================] - 72s 532us/step - loss: 1.4320\n",
            "\n",
            "Epoch 00069: loss improved from 1.43557 to 1.43205, saving model to EIP_Session2_weights-69-1.4320.hdf5\n",
            "Epoch 70/100\n",
            "135914/135914 [==============================] - 72s 527us/step - loss: 1.4268\n",
            "\n",
            "Epoch 00070: loss improved from 1.43205 to 1.42679, saving model to EIP_Session2_weights-70-1.4268.hdf5\n",
            "Epoch 71/100\n",
            "135914/135914 [==============================] - 72s 530us/step - loss: 1.4171\n",
            "\n",
            "Epoch 00071: loss improved from 1.42679 to 1.41714, saving model to EIP_Session2_weights-71-1.4171.hdf5\n",
            "Epoch 72/100\n",
            "135914/135914 [==============================] - 73s 534us/step - loss: 1.4179\n",
            "\n",
            "Epoch 00072: loss did not improve from 1.41714\n",
            "Epoch 73/100\n",
            "135914/135914 [==============================] - 72s 532us/step - loss: 1.4159\n",
            "\n",
            "Epoch 00073: loss improved from 1.41714 to 1.41589, saving model to EIP_Session2_weights-73-1.4159.hdf5\n",
            "Epoch 74/100\n",
            "135914/135914 [==============================] - 72s 526us/step - loss: 1.4106\n",
            "\n",
            "Epoch 00074: loss improved from 1.41589 to 1.41060, saving model to EIP_Session2_weights-74-1.4106.hdf5\n",
            "Epoch 75/100\n",
            "135914/135914 [==============================] - 71s 523us/step - loss: 1.4092\n",
            "\n",
            "Epoch 00075: loss improved from 1.41060 to 1.40917, saving model to EIP_Session2_weights-75-1.4092.hdf5\n",
            "Epoch 76/100\n",
            "135914/135914 [==============================] - 71s 524us/step - loss: 1.4035\n",
            "\n",
            "Epoch 00076: loss improved from 1.40917 to 1.40349, saving model to EIP_Session2_weights-76-1.4035.hdf5\n",
            "Epoch 77/100\n",
            "135914/135914 [==============================] - 71s 526us/step - loss: 1.4013\n",
            "\n",
            "Epoch 00077: loss improved from 1.40349 to 1.40134, saving model to EIP_Session2_weights-77-1.4013.hdf5\n",
            "Epoch 78/100\n",
            "135914/135914 [==============================] - 71s 522us/step - loss: 1.3948\n",
            "\n",
            "Epoch 00078: loss improved from 1.40134 to 1.39480, saving model to EIP_Session2_weights-78-1.3948.hdf5\n",
            "Epoch 79/100\n",
            "135914/135914 [==============================] - 71s 524us/step - loss: 1.3936\n",
            "\n",
            "Epoch 00079: loss improved from 1.39480 to 1.39357, saving model to EIP_Session2_weights-79-1.3936.hdf5\n",
            "Epoch 80/100\n",
            "135914/135914 [==============================] - 71s 522us/step - loss: 1.3852\n",
            "\n",
            "Epoch 00080: loss improved from 1.39357 to 1.38523, saving model to EIP_Session2_weights-80-1.3852.hdf5\n",
            "Epoch 81/100\n",
            "135914/135914 [==============================] - 71s 525us/step - loss: 1.3881\n",
            "\n",
            "Epoch 00081: loss did not improve from 1.38523\n",
            "Epoch 82/100\n",
            "135914/135914 [==============================] - 71s 523us/step - loss: 1.3859\n",
            "\n",
            "Epoch 00082: loss did not improve from 1.38523\n",
            "Epoch 83/100\n",
            "135914/135914 [==============================] - 71s 523us/step - loss: 1.3756\n",
            "\n",
            "Epoch 00083: loss improved from 1.38523 to 1.37557, saving model to EIP_Session2_weights-83-1.3756.hdf5\n",
            "Epoch 84/100\n",
            "135914/135914 [==============================] - 71s 522us/step - loss: 1.3734\n",
            "\n",
            "Epoch 00084: loss improved from 1.37557 to 1.37336, saving model to EIP_Session2_weights-84-1.3734.hdf5\n",
            "Epoch 85/100\n",
            "135914/135914 [==============================] - 71s 525us/step - loss: 1.3702\n",
            "\n",
            "Epoch 00085: loss improved from 1.37336 to 1.37016, saving model to EIP_Session2_weights-85-1.3702.hdf5\n",
            "Epoch 86/100\n",
            "135914/135914 [==============================] - 71s 521us/step - loss: 1.3681\n",
            "\n",
            "Epoch 00086: loss improved from 1.37016 to 1.36812, saving model to EIP_Session2_weights-86-1.3681.hdf5\n",
            "Epoch 87/100\n",
            "135914/135914 [==============================] - 71s 520us/step - loss: 1.3643\n",
            "\n",
            "Epoch 00087: loss improved from 1.36812 to 1.36425, saving model to EIP_Session2_weights-87-1.3643.hdf5\n",
            "Epoch 88/100\n",
            "135914/135914 [==============================] - 71s 521us/step - loss: 1.3589\n",
            "\n",
            "Epoch 00088: loss improved from 1.36425 to 1.35889, saving model to EIP_Session2_weights-88-1.3589.hdf5\n",
            "Epoch 89/100\n",
            "135914/135914 [==============================] - 71s 520us/step - loss: 1.3602\n",
            "\n",
            "Epoch 00089: loss did not improve from 1.35889\n",
            "Epoch 90/100\n",
            "135914/135914 [==============================] - 71s 524us/step - loss: 1.3559\n",
            "\n",
            "Epoch 00090: loss improved from 1.35889 to 1.35591, saving model to EIP_Session2_weights-90-1.3559.hdf5\n",
            "Epoch 91/100\n",
            "135914/135914 [==============================] - 71s 520us/step - loss: 1.3549\n",
            "\n",
            "Epoch 00091: loss improved from 1.35591 to 1.35493, saving model to EIP_Session2_weights-91-1.3549.hdf5\n",
            "Epoch 92/100\n",
            "135914/135914 [==============================] - 71s 520us/step - loss: 1.3475\n",
            "\n",
            "Epoch 00092: loss improved from 1.35493 to 1.34750, saving model to EIP_Session2_weights-92-1.3475.hdf5\n",
            "Epoch 93/100\n",
            "135914/135914 [==============================] - 71s 522us/step - loss: 1.3509\n",
            "\n",
            "Epoch 00093: loss did not improve from 1.34750\n",
            "Epoch 94/100\n",
            "135914/135914 [==============================] - 71s 525us/step - loss: 1.3458\n",
            "\n",
            "Epoch 00094: loss improved from 1.34750 to 1.34581, saving model to EIP_Session2_weights-94-1.3458.hdf5\n",
            "Epoch 95/100\n",
            "135914/135914 [==============================] - 71s 522us/step - loss: 1.3416\n",
            "\n",
            "Epoch 00095: loss improved from 1.34581 to 1.34163, saving model to EIP_Session2_weights-95-1.3416.hdf5\n",
            "Epoch 96/100\n",
            "135914/135914 [==============================] - 71s 524us/step - loss: 1.3403\n",
            "\n",
            "Epoch 00096: loss improved from 1.34163 to 1.34029, saving model to EIP_Session2_weights-96-1.3403.hdf5\n",
            "Epoch 97/100\n",
            "135914/135914 [==============================] - 71s 523us/step - loss: 1.3354\n",
            "\n",
            "Epoch 00097: loss improved from 1.34029 to 1.33540, saving model to EIP_Session2_weights-97-1.3354.hdf5\n",
            "Epoch 98/100\n",
            "135914/135914 [==============================] - 71s 525us/step - loss: 1.3324\n",
            "\n",
            "Epoch 00098: loss improved from 1.33540 to 1.33238, saving model to EIP_Session2_weights-98-1.3324.hdf5\n",
            "Epoch 99/100\n",
            "135914/135914 [==============================] - 71s 526us/step - loss: 1.3280\n",
            "\n",
            "Epoch 00099: loss improved from 1.33238 to 1.32798, saving model to EIP_Session2_weights-99-1.3280.hdf5\n",
            "Epoch 100/100\n",
            "135914/135914 [==============================] - 71s 523us/step - loss: 1.3284\n",
            "\n",
            "Epoch 00100: loss did not improve from 1.32798\n"
          ],
          "name": "stdout"
        },
        {
          "output_type": "execute_result",
          "data": {
            "text/plain": [
              "<keras.callbacks.History at 0x7f616bbc3e10>"
            ]
          },
          "metadata": {
            "tags": []
          },
          "execution_count": 13
        }
      ]
    },
    {
      "cell_type": "code",
      "metadata": {
        "id": "sbFvo1k4mGmz",
        "colab_type": "code",
        "colab": {
          "base_uri": "https://localhost:8080/",
          "height": 306
        },
        "outputId": "2262e8ef-223a-4cc1-acaf-37bdac51cce4"
      },
      "source": [
        "model.summary()"
      ],
      "execution_count": 14,
      "outputs": [
        {
          "output_type": "stream",
          "text": [
            "_________________________________________________________________\n",
            "Layer (type)                 Output Shape              Param #   \n",
            "=================================================================\n",
            "dropout_1 (Dropout)          (None, 100, 1)            0         \n",
            "_________________________________________________________________\n",
            "lstm_1 (LSTM)                (None, 100, 256)          264192    \n",
            "_________________________________________________________________\n",
            "dropout_2 (Dropout)          (None, 100, 256)          0         \n",
            "_________________________________________________________________\n",
            "lstm_2 (LSTM)                (None, 256)               525312    \n",
            "_________________________________________________________________\n",
            "dense_1 (Dense)              (None, 29)                7453      \n",
            "=================================================================\n",
            "Total params: 796,957\n",
            "Trainable params: 796,957\n",
            "Non-trainable params: 0\n",
            "_________________________________________________________________\n"
          ],
          "name": "stdout"
        }
      ]
    },
    {
      "cell_type": "code",
      "metadata": {
        "id": "_04htWtzb3aA",
        "colab_type": "code",
        "colab": {
          "base_uri": "https://localhost:8080/",
          "height": 102
        },
        "outputId": "a7a69c90-0cda-4918-c003-7875d0815c28"
      },
      "source": [
        "# pick a random seed\n",
        "start = numpy.random.randint(0, len(dataX)-1)\n",
        "pattern = dataX[start]\n",
        "print (\"Seed:\")\n",
        "print (\"\\\"\", ''.join([int_to_char[value] for value in pattern]), \"\\\"\")"
      ],
      "execution_count": 15,
      "outputs": [
        {
          "output_type": "stream",
          "text": [
            "Seed:\n",
            "\" ll\n",
            "\n",
            "it was the white rabbit trotting slowly back again and looking\n",
            "anxiously about as it went as if  \"\n"
          ],
          "name": "stdout"
        }
      ]
    },
    {
      "cell_type": "markdown",
      "metadata": {
        "id": "mSuKbOD55ocY",
        "colab_type": "text"
      },
      "source": [
        "## Predicting for 500 characters"
      ]
    },
    {
      "cell_type": "code",
      "metadata": {
        "id": "sDatu0mzb5aV",
        "colab_type": "code",
        "colab": {
          "base_uri": "https://localhost:8080/",
          "height": 136
        },
        "outputId": "40873b97-4355-45a3-aa80-bdbe9f4dfb68"
      },
      "source": [
        "# generate 500 characters\n",
        "for i in range(500):\n",
        "\tx = numpy.reshape(pattern, (1, len(pattern), 1))\n",
        "\tx = x / float(n_vocab)\n",
        "\tprediction = model.predict(x, verbose=0)\n",
        "\tindex = numpy.argmax(prediction)\n",
        "\tresult = int_to_char[index]\n",
        "\tif(i%100 == 0):\n",
        "\t\tresult = result + \"\\n\"\n",
        "\tseq_in = [int_to_char[value] for value in pattern]\n",
        "\tsys.stdout.write(result)\n",
        "\tpattern.append(index)\n",
        "\tpattern = pattern[1:len(pattern)]\n",
        "print(\"\\nDone.\")"
      ],
      "execution_count": 29,
      "outputs": [
        {
          "output_type": "stream",
          "text": [
            " \n",
            "suied anouw iere anice had been tooe anice tueeenlng tuiel suisting tunetiing butug tuastel taid ali\n",
            "ce ierseled toaning tuieksis and teooied tuitting anice hellihtt taid the knew to tlated anice anice\n",
            " ruitedied suiersing tuastellng tuiaksed suizes oowtin gorumed suied anouw iere anice had been tooe \n",
            "anice tueeenlng tuiel suisting tunetiing butug tuastel taid alice ierseled toaning tuieksis and teoo\n",
            "ied tuitting anice hellihtt taid the knew to tlated anice anice ruitedied suiersing tuastellng tuia\n",
            "Done.\n"
          ],
          "name": "stdout"
        }
      ]
    },
    {
      "cell_type": "code",
      "metadata": {
        "id": "8POxzAv3leWf",
        "colab_type": "code",
        "colab": {}
      },
      "source": [
        ""
      ],
      "execution_count": 0,
      "outputs": []
    }
  ]
}